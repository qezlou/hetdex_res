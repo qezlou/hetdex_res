{
 "cells": [
  {
   "cell_type": "code",
   "execution_count": null,
   "id": "861d5dab",
   "metadata": {},
   "outputs": [],
   "source": [
    "import importlib\n",
    "from het_cov import plot\n",
    "importlib.reload(plot)\n",
    "\n",
    "#data_dir = '/home/jovyan/work/hetdex/data'\n",
    "data_dir = '/home/qezlou/HD1/data_het/data/emmission/'\n",
    "plot_pca = plot.PCA(data_dir=data_dir, data_file='pca.h5')\n",
    "plot_pca.variance_vs_components()\n",
    "plot_pca.individual_eigenspectrum()"
   ]
  }
 ],
 "metadata": {
  "language_info": {
   "name": "python"
  }
 },
 "nbformat": 4,
 "nbformat_minor": 5
}
