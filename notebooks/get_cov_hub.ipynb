{
 "cells": [
  {
   "cell_type": "code",
   "execution_count": 10,
   "id": "7e15b3ea-59f7-42ec-9aea-da564ba45648",
   "metadata": {},
   "outputs": [],
   "source": [
    "# I cannot pip install on the Hub\n",
    "import sys\n",
    "import os\n",
    "sys.path.append(os.path.abspath('/home/jovyan/work/hetdex/packs/private-het-data/src'))\n",
    "\n",
    "import het_cov"
   ]
  },
  {
   "cell_type": "code",
   "execution_count": 9,
   "id": "78406b7f-3800-4d61-8a9c-a24e300aed71",
   "metadata": {},
   "outputs": [
    {
     "ename": "SyntaxError",
     "evalue": "incomplete input (630842710.py, line 1)",
     "output_type": "error",
     "traceback": [
      "\u001b[0;36m  Cell \u001b[0;32mIn[9], line 1\u001b[0;36m\u001b[0m\n\u001b[0;31m    os.path.abspath('../src'\u001b[0m\n\u001b[0m                            ^\u001b[0m\n\u001b[0;31mSyntaxError\u001b[0m\u001b[0;31m:\u001b[0m incomplete input\n"
     ]
    }
   ],
   "source": []
  },
  {
   "cell_type": "code",
   "execution_count": null,
   "id": "e8be1630-ad19-4622-bedb-e55c4948aaad",
   "metadata": {},
   "outputs": [],
   "source": []
  }
 ],
 "metadata": {
  "kernelspec": {
   "display_name": "Python 3 (ipykernel)",
   "language": "python",
   "name": "python3"
  },
  "language_info": {
   "codemirror_mode": {
    "name": "ipython",
    "version": 3
   },
   "file_extension": ".py",
   "mimetype": "text/x-python",
   "name": "python",
   "nbconvert_exporter": "python",
   "pygments_lexer": "ipython3",
   "version": "3.12.7"
  }
 },
 "nbformat": 4,
 "nbformat_minor": 5
}
