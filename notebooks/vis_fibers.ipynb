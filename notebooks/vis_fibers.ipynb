{
 "cells": [
  {
   "cell_type": "code",
   "execution_count": 1,
   "id": "c888f4f1-a958-4a19-8a36-bda913f8f4e1",
   "metadata": {},
   "outputs": [
    {
     "name": "stdout",
     "output_type": "stream",
     "text": [
      "Fibers | 09/09/2025 11:41:54 PM | INFO  |  loading shotids from /home/jovyan/work/hetdex/data/hdr5_shotid_list.h5\n"
     ]
    }
   ],
   "source": [
    "# I cannot pip install on the Hub\n",
    "import sys\n",
    "import os\n",
    "\n",
    "# Determine if we are on the Hub by checking for a specific environment variable\n",
    "if 'JUPYTERHUB_USER' in os.environ:\n",
    "    sys.path.append(os.path.abspath('/home/jovyan/work/hetdex/packs/private-het-data/src/het_cov'))\n",
    "    import fibers\n",
    "    data_dir = '/home/jovyan/work/hetdex/data/'\n",
    "else:\n",
    "    from het_cov import fibers\n",
    "    data_dir = '/work/06536/qezlou/hetdex/data/'\n",
    "\n",
    "\n",
    "fibs = fibers.Fibers(data_dir)"
   ]
  },
  {
   "cell_type": "code",
   "execution_count": 2,
   "id": "29c96a34-94fc-4e99-943c-8dee24e07a2b",
   "metadata": {},
   "outputs": [
    {
     "name": "stdout",
     "output_type": "stream",
     "text": [
      "Fibers | 09/09/2025 11:42:31 PM | INFO  |  Total fibers: 104496\n",
      "Fibers | 09/09/2025 11:42:33 PM | INFO  |  Good fibers: 97536, Fraction of good pixels 0.9712908992636478\n",
      "Fibers | 09/09/2025 11:42:40 PM | INFO  |   Remaining fraction after removing continuum sources 0.647945374015748 \n"
     ]
    }
   ],
   "source": [
    "fibs_tab = fibs.get_fibers_one_shot(fibs.shotids_list[-10])"
   ]
  },
  {
   "cell_type": "code",
   "execution_count": null,
   "id": "cba14184-3006-4176-b8ef-c860b190c664",
   "metadata": {},
   "outputs": [],
   "source": []
  },
  {
   "cell_type": "code",
   "execution_count": null,
   "id": "ab2d2c13-170c-4744-8d66-6a9a4ad72c3d",
   "metadata": {},
   "outputs": [],
   "source": []
  }
 ],
 "metadata": {
  "kernelspec": {
   "display_name": "Python 3 (ipykernel)",
   "language": "python",
   "name": "python3"
  },
  "language_info": {
   "codemirror_mode": {
    "name": "ipython",
    "version": 3
   },
   "file_extension": ".py",
   "mimetype": "text/x-python",
   "name": "python",
   "nbconvert_exporter": "python",
   "pygments_lexer": "ipython3",
   "version": "3.12.7"
  }
 },
 "nbformat": 4,
 "nbformat_minor": 5
}
